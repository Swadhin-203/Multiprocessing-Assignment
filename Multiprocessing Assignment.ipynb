{
 "cells": [
  {
   "cell_type": "markdown",
   "id": "953b9ccb",
   "metadata": {},
   "source": [
    "# Q1. What is multiprocessing in python? Why is it useful?\n",
    "\n",
    "Ans:Multiprocessing in Python refers to the capability of the Python programming language to execute multiple processes simultaneously on different processors or cores of a computer, thereby increasing the overall efficiency and speed of the program.\n",
    "\n",
    "In Python, the multiprocessing module provides a way to spawn processes using an API similar to the threading module, which allows for the creation of threads. However, unlike threads, each process has its own memory space, and processes do not share memory with each other, which makes it easier to write parallel programs that avoid common concurrency issues, such as race conditions.\n",
    "\n",
    "Multiprocessing is useful in Python for several reasons, including:\n",
    "\n",
    "Improved performance: By executing multiple processes simultaneously, multiprocessing can significantly improve the overall performance of a program.\n",
    "\n",
    "Parallel processing: Multiprocessing allows for parallel processing of tasks, which can be particularly useful for CPU-intensive tasks such as image processing, data analysis, and machine learning.\n",
    "\n",
    "Fault tolerance: If one process crashes or hangs, other processes can continue to run without being affected.\n",
    "\n",
    "Scalability: Multiprocessing can help scale programs to take advantage of multiple processors and cores in a computer or across a cluster of computers, which is particularly useful for large-scale data processing and scientific computing."
   ]
  },
  {
   "cell_type": "markdown",
   "id": "ae3aef18",
   "metadata": {},
   "source": [
    "# Q2. What are the differences between multiprocessing and multithreading?\n",
    "Ans:Multiprocessing and multithreading are both techniques used to achieve concurrency and improve the performance of software systems. However, there are several key differences between them:\n",
    "\n",
    "Memory and resource sharing: In multiprocessing, each process has its own memory space and resources such as file descriptors, network sockets, etc., while in multithreading, all threads of a process share the same memory space and resources.\n",
    "\n",
    "CPU utilization: In multiprocessing, each process can run on a separate CPU core, which makes it suitable for CPU-bound tasks, while in multithreading, all threads run on the same CPU core, which makes it more suitable for I/O-bound tasks.\n",
    "\n",
    "Overhead: Multiprocessing involves more overhead because each process has its own memory space and resources, and communication between processes requires inter-process communication mechanisms such as pipes, queues, and sockets. On the other hand, multithreading involves less overhead because threads share the same memory space and resources, and communication between threads can be done using shared memory.\n",
    "\n",
    "Complexity: Multiprocessing is more complex to implement because of the need for inter-process communication and synchronization mechanisms, while multithreading is simpler to implement because threads share the same memory space and synchronization can be achieved using locks, semaphores, and condition variables.\n",
    "\n",
    "Fault tolerance: In multiprocessing, if one process crashes or hangs, other processes can continue to run without being affected, while in multithreading, if one thread crashes or hangs, it can potentially affect other threads in the same process.\n",
    "\n",
    "Overall, the choice between multiprocessing and multithreading depends on the specific requirements of the task at hand. Multiprocessing is more suitable for CPU-bound tasks that can be parallelized, while multithreading is more suitable for I/O-bound tasks that involve a lot of waiting for I/O operations to complete."
   ]
  },
  {
   "cell_type": "code",
   "execution_count": 1,
   "id": "bc663a3a",
   "metadata": {},
   "outputs": [
    {
     "name": "stdout",
     "output_type": "stream",
     "text": [
      "Parent process exiting\n"
     ]
    }
   ],
   "source": [
    "# Q3. Write a python code to create a process using the multiprocessing module.\n",
    "import multiprocessing\n",
    "\n",
    "def my_function():\n",
    "    print(\"Hello from child process\")\n",
    "\n",
    "if __name__ == '__main__':\n",
    "\n",
    "    p = multiprocessing.Process(target=my_function)\n",
    "\n",
    "    p.start()\n",
    "\n",
    "    p.join()\n",
    "\n",
    "    print(\"Parent process exiting\")\n"
   ]
  },
  {
   "cell_type": "markdown",
   "id": "9b99c799",
   "metadata": {},
   "source": [
    "# Q4. What is a multiprocessing pool in python? Why is it used?\n",
    "Ans:A multiprocessing pool in Python is a convenient way to parallelize the execution of a function across multiple input values using multiple processes. The pool creates a group of worker processes that can each execute the function on a different input value, thereby allowing the function to be executed in parallel on multiple cores of the CPU.\n",
    "\n",
    "The multiprocessing module provides a Pool class that can be used to create a pool of worker processes. Here's an example of how to use the Pool class:"
   ]
  },
  {
   "cell_type": "code",
   "execution_count": null,
   "id": "d43f7706",
   "metadata": {},
   "outputs": [],
   "source": [
    "# Q5. How can we create a pool of worker processes in python using the multiprocessing module?\n",
    "# Ans:\n",
    "# To create a pool of worker processes in Python using the multiprocessing module, you can use the Pool class.\n",
    "import multiprocessing\n",
    "\n",
    "def worker_function(arg1, arg2):\n",
    "    # function that will be executed by each worker process\n",
    "    pass\n",
    "\n",
    "if __name__ == '__main__':\n",
    "    \n",
    "    with multiprocessing.Pool(processes=4) as pool:\n",
    "       \n",
    "        results = pool.starmap(worker_function, [(1, 'a'), (2, 'b'), (3, 'c'), (4, 'd')])\n",
    "\n"
   ]
  },
  {
   "cell_type": "code",
   "execution_count": null,
   "id": "93388f4d",
   "metadata": {},
   "outputs": [],
   "source": [
    "# Q6. Write a python program to create 4 processes, each process should print a different number using the\n",
    "# multiprocessing module in python.\n",
    "import multiprocessing\n",
    "\n",
    "def print_number(num):\n",
    "    print(f\"Process {num}: {num}\")\n",
    "\n",
    "if __name__ == '__main__':\n",
    "    processes = []\n",
    "    for i in range(4):\n",
    "        p = multiprocessing.Process(target=print_number, args=(i,))\n",
    "        processes.append(p)\n",
    "        p.start()\n",
    "\n",
    "    for p in processes:\n",
    "        p.join()\n",
    "\n",
    "    print(\"All processes have finished\")\n"
   ]
  },
  {
   "cell_type": "code",
   "execution_count": null,
   "id": "88fb5299",
   "metadata": {},
   "outputs": [],
   "source": []
  },
  {
   "cell_type": "code",
   "execution_count": null,
   "id": "5293821e",
   "metadata": {},
   "outputs": [],
   "source": []
  },
  {
   "cell_type": "code",
   "execution_count": null,
   "id": "4e665760",
   "metadata": {},
   "outputs": [],
   "source": []
  },
  {
   "cell_type": "code",
   "execution_count": null,
   "id": "b4c30a05",
   "metadata": {},
   "outputs": [],
   "source": []
  },
  {
   "cell_type": "code",
   "execution_count": null,
   "id": "bdd981d6",
   "metadata": {},
   "outputs": [],
   "source": []
  },
  {
   "cell_type": "code",
   "execution_count": null,
   "id": "855f0286",
   "metadata": {},
   "outputs": [],
   "source": []
  },
  {
   "cell_type": "code",
   "execution_count": null,
   "id": "95f9f38a",
   "metadata": {},
   "outputs": [],
   "source": []
  },
  {
   "cell_type": "code",
   "execution_count": null,
   "id": "084c7442",
   "metadata": {},
   "outputs": [],
   "source": []
  },
  {
   "cell_type": "code",
   "execution_count": null,
   "id": "ced2f6e7",
   "metadata": {},
   "outputs": [],
   "source": []
  },
  {
   "cell_type": "code",
   "execution_count": null,
   "id": "dd9c857f",
   "metadata": {},
   "outputs": [],
   "source": []
  },
  {
   "cell_type": "code",
   "execution_count": null,
   "id": "c94f14c9",
   "metadata": {},
   "outputs": [],
   "source": []
  },
  {
   "cell_type": "code",
   "execution_count": null,
   "id": "20cc8bd9",
   "metadata": {},
   "outputs": [],
   "source": []
  },
  {
   "cell_type": "code",
   "execution_count": null,
   "id": "b6eab706",
   "metadata": {},
   "outputs": [],
   "source": []
  },
  {
   "cell_type": "code",
   "execution_count": null,
   "id": "e4ea46c6",
   "metadata": {},
   "outputs": [],
   "source": []
  },
  {
   "cell_type": "code",
   "execution_count": null,
   "id": "ffb61737",
   "metadata": {},
   "outputs": [],
   "source": []
  },
  {
   "cell_type": "code",
   "execution_count": null,
   "id": "533d24df",
   "metadata": {},
   "outputs": [],
   "source": []
  },
  {
   "cell_type": "code",
   "execution_count": null,
   "id": "c7b4bcd5",
   "metadata": {},
   "outputs": [],
   "source": []
  },
  {
   "cell_type": "code",
   "execution_count": null,
   "id": "0b975066",
   "metadata": {},
   "outputs": [],
   "source": []
  },
  {
   "cell_type": "code",
   "execution_count": null,
   "id": "c5d2f070",
   "metadata": {},
   "outputs": [],
   "source": []
  },
  {
   "cell_type": "code",
   "execution_count": null,
   "id": "eae5419b",
   "metadata": {},
   "outputs": [],
   "source": []
  },
  {
   "cell_type": "code",
   "execution_count": null,
   "id": "48e9a90e",
   "metadata": {},
   "outputs": [],
   "source": []
  },
  {
   "cell_type": "code",
   "execution_count": null,
   "id": "8a32fe86",
   "metadata": {},
   "outputs": [],
   "source": []
  },
  {
   "cell_type": "code",
   "execution_count": null,
   "id": "b707de49",
   "metadata": {},
   "outputs": [],
   "source": []
  },
  {
   "cell_type": "code",
   "execution_count": null,
   "id": "e4c40905",
   "metadata": {},
   "outputs": [],
   "source": []
  },
  {
   "cell_type": "code",
   "execution_count": null,
   "id": "54c92e8d",
   "metadata": {},
   "outputs": [],
   "source": []
  },
  {
   "cell_type": "code",
   "execution_count": null,
   "id": "69d23dae",
   "metadata": {},
   "outputs": [],
   "source": []
  },
  {
   "cell_type": "code",
   "execution_count": null,
   "id": "317e8585",
   "metadata": {},
   "outputs": [],
   "source": []
  },
  {
   "cell_type": "code",
   "execution_count": null,
   "id": "4434d531",
   "metadata": {},
   "outputs": [],
   "source": []
  },
  {
   "cell_type": "code",
   "execution_count": null,
   "id": "481d6475",
   "metadata": {},
   "outputs": [],
   "source": []
  },
  {
   "cell_type": "code",
   "execution_count": null,
   "id": "0e83a624",
   "metadata": {},
   "outputs": [],
   "source": []
  },
  {
   "cell_type": "code",
   "execution_count": null,
   "id": "67b2c63f",
   "metadata": {},
   "outputs": [],
   "source": []
  },
  {
   "cell_type": "code",
   "execution_count": null,
   "id": "56a76b5f",
   "metadata": {},
   "outputs": [],
   "source": []
  },
  {
   "cell_type": "code",
   "execution_count": null,
   "id": "23f86946",
   "metadata": {},
   "outputs": [],
   "source": []
  },
  {
   "cell_type": "code",
   "execution_count": null,
   "id": "5485a6cb",
   "metadata": {},
   "outputs": [],
   "source": []
  },
  {
   "cell_type": "code",
   "execution_count": null,
   "id": "effb35a3",
   "metadata": {},
   "outputs": [],
   "source": []
  },
  {
   "cell_type": "code",
   "execution_count": null,
   "id": "b1572d1e",
   "metadata": {},
   "outputs": [],
   "source": []
  }
 ],
 "metadata": {
  "kernelspec": {
   "display_name": "Python 3 (ipykernel)",
   "language": "python",
   "name": "python3"
  },
  "language_info": {
   "codemirror_mode": {
    "name": "ipython",
    "version": 3
   },
   "file_extension": ".py",
   "mimetype": "text/x-python",
   "name": "python",
   "nbconvert_exporter": "python",
   "pygments_lexer": "ipython3",
   "version": "3.10.5"
  }
 },
 "nbformat": 4,
 "nbformat_minor": 5
}
